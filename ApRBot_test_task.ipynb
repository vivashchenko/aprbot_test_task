{
 "cells": [
  {
   "cell_type": "code",
   "execution_count": 1,
   "id": "human-sustainability",
   "metadata": {},
   "outputs": [],
   "source": [
    "import spacy\n",
    "import re"
   ]
  },
  {
   "cell_type": "code",
   "execution_count": 56,
   "id": "binary-treasure",
   "metadata": {},
   "outputs": [],
   "source": [
    "nlp = spacy.load(\"en_core_web_sm\")\n",
    "txt = \"Vlad and Liza are going to visit Moscow at 12:00 in 6 December, then Liza go home Liza and Vlad go Sarov\""
   ]
  },
  {
   "cell_type": "code",
   "execution_count": 59,
   "id": "commercial-transsexual",
   "metadata": {},
   "outputs": [],
   "source": [
    "def count_propns_and_nums(txt):\n",
    "    dictionary = nlp(txt)\n",
    "    nums = list(map(int,re.findall(r'\\d+', txt)))\n",
    "    pos = [wrd.i for wrd in dictionary if wrd.pos_ == \"PROPN\"]\n",
    "    consecutives = []\n",
    "    current = []\n",
    "    for elt in pos:\n",
    "        if len(current) == 0:\n",
    "            current.append(elt)\n",
    "        else:\n",
    "            if current[-1] == elt - 1:\n",
    "                current.append(elt)\n",
    "            else:\n",
    "                consecutives.append(current)\n",
    "                current = [elt]\n",
    "    if len(current) != 0:\n",
    "        consecutives.append(current)\n",
    "    propns = [dictionary[consecutive[0]:consecutive[-1]+1] for consecutive in consecutives]\n",
    "    propns = list(map(str,propns))\n",
    "    with open(\"output.html\", \"w\", encoding = 'utf-8') as file:\n",
    "        for uniq in list(set(nums)):\n",
    "            file.write('<right>' + str(uniq) + ' was found: ' + str(nums.count(uniq)) + ' </right> <br />')\n",
    "        for uniq in list(set(propns)):\n",
    "            file.write('<right>' + uniq + ' was found: ' + str(propns.count(uniq)) + '</right> <br />')"
   ]
  },
  {
   "cell_type": "code",
   "execution_count": 60,
   "id": "attractive-marsh",
   "metadata": {
    "scrolled": false
   },
   "outputs": [],
   "source": [
    "count_propns_and_nums(txt)"
   ]
  },
  {
   "cell_type": "code",
   "execution_count": 22,
   "id": "detected-violence",
   "metadata": {},
   "outputs": [],
   "source": [
    "import itertools\n",
    "from itertools import repeat\n",
    "import random\n",
    "import time"
   ]
  },
  {
   "cell_type": "code",
   "execution_count": 23,
   "id": "entire-orientation",
   "metadata": {},
   "outputs": [
    {
     "name": "stdout",
     "output_type": "stream",
     "text": [
      "Enter N: \n",
      "3\n",
      "Execution time: 0.0005047321319580078 seconds\n"
     ]
    }
   ],
   "source": [
    "N = 100\n",
    "while N >= 10:\n",
    "    N = int(input('Enter N: \\n'))\n",
    "    if N >= 10:\n",
    "        print('Incorrect N! N must be < 10')\n",
    "\n",
    "\n",
    "def generate_str(N):\n",
    "    first = random.randint(0,9)\n",
    "    nums=list(repeat(str(first), N))\n",
    "    while len(nums)!=2*N:\n",
    "        i = str(random.randint(0,9))\n",
    "        if i not in nums:\n",
    "            nums.append(i)        \n",
    "    return nums\n",
    "\n",
    "with open(\"output.dat\", \"w\", encoding = 'utf-8') as file:\n",
    "    st = time.time()\n",
    "    for i in itertools.permutations(generate_str(N), r=None):\n",
    "        file.write(str(i) + '\\n')\n",
    "    et = time.time()\n",
    "    file.close()\n",
    "    \n",
    "print('Execution time:', et-st, 'seconds')"
   ]
  },
  {
   "cell_type": "code",
   "execution_count": 122,
   "id": "handmade-hometown",
   "metadata": {},
   "outputs": [],
   "source": [
    "n_list=[1,2,3,4,5]\n",
    "time_list=[3.075599670410156e-05,3.933906555175781e-05,0.0005488395690917969,0.056905269622802734,2.9160187244415283,]"
   ]
  },
  {
   "cell_type": "code",
   "execution_count": null,
   "id": "painted-particular",
   "metadata": {},
   "outputs": [],
   "source": []
  }
 ],
 "metadata": {
  "kernelspec": {
   "display_name": "Python 3 (ipykernel)",
   "language": "python",
   "name": "python3"
  },
  "language_info": {
   "codemirror_mode": {
    "name": "ipython",
    "version": 3
   },
   "file_extension": ".py",
   "mimetype": "text/x-python",
   "name": "python",
   "nbconvert_exporter": "python",
   "pygments_lexer": "ipython3",
   "version": "3.9.2"
  }
 },
 "nbformat": 4,
 "nbformat_minor": 5
}
